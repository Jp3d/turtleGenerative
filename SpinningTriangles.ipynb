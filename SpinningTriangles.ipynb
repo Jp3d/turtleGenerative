{
 "cells": [
  {
   "cell_type": "code",
   "execution_count": 148,
   "metadata": {},
   "outputs": [],
   "source": [
    "import tkinter as tk\n",
    "import turtle as trt\n",
    "\n"
   ]
  },
  {
   "cell_type": "code",
   "execution_count": 149,
   "metadata": {},
   "outputs": [],
   "source": [
    "resX= 700\n",
    "resY= 700\n",
    "margin = 60\n",
    "\n",
    "sc= trt.Screen()\n",
    "sc.setup(resX + margin,resY + margin)\n",
    "sc.clear()\n",
    "trt.color(\"black\")\n",
    "trt.tracer(0,0) ###trt.speed(\"fastest\")\n",
    "\n",
    "\n"
   ]
  },
  {
   "cell_type": "code",
   "execution_count": 150,
   "metadata": {},
   "outputs": [
    {
     "data": {
      "text/plain": [
       "''"
      ]
     },
     "execution_count": 150,
     "metadata": {},
     "output_type": "execute_result"
    }
   ],
   "source": [
    "###make grid\n",
    "gridX = 65\n",
    "gridY = 65\n",
    "stepX = int(resX/gridX)\n",
    "stepY = int(resY/gridY)\n",
    "halfResX = int(resX/2)\n",
    "halfResY = int(resY/2)\n",
    "\n",
    "\n",
    "\n",
    "###square the grid with lines\n",
    "trt.penup()\n",
    "trt.goto(0-halfResX,halfResY)\n",
    "trt.pendown()\n",
    "trt.forward(resX)\n",
    "trt.rt(90)\n",
    "trt.forward(resY)\n",
    "trt.rt(90)\n",
    "trt.forward(resX)\n",
    "trt.rt(90)\n",
    "trt.forward(resY)\n",
    "\n",
    "for o in range(2):\n",
    "    for xx in range(gridX):\n",
    "            for yy in range(gridY):\n",
    "                trt.penup()\n",
    "                trt.goto(((stepX)*xx)-halfResX+(stepX)/2, ((stepY)*yy)-halfResY+(stepY)/2)\n",
    "                trt.lt(90)\n",
    "                trt.pendown()\n",
    "                trt.forward(stepY/2)\n",
    "                trt.lt(90)\n",
    "                trt.forward(stepX/2)\n",
    "                trt.lt(90)\n",
    "                trt.forward(stepX/2)\n",
    "                trt.rt(90)\n",
    "                trt.forward(stepX/2)\n",
    "                trt.rt(90)\n",
    "                trt.dot(o*2)\n",
    "\n",
    "\n",
    "trt.hideturtle()\n",
    "trt.update()\n",
    "###ts = trt.getscreen()\n",
    "trt.getcanvas().postscript(file=\"duck.eps\")\n",
    "\n",
    "        \n"
   ]
  },
  {
   "cell_type": "code",
   "execution_count": 151,
   "metadata": {},
   "outputs": [
    {
     "data": {
      "text/plain": [
       "' for i in range(1024):\\n    trt.shape(\"circle\")\\n    trt.lt(i)\\n    trt.fd(100+i)\\n    trt.lt(120)\\n    trt.fd(100+i)\\n    trt.lt(120)\\n    trt.fd(100+i) '"
      ]
     },
     "execution_count": 151,
     "metadata": {},
     "output_type": "execute_result"
    }
   ],
   "source": [
    "\"\"\" for i in range(1024):\n",
    "    trt.shape(\"circle\")\n",
    "    trt.lt(i)\n",
    "    trt.fd(100+i)\n",
    "    trt.lt(120)\n",
    "    trt.fd(100+i)\n",
    "    trt.lt(120)\n",
    "    trt.fd(100+i) \"\"\""
   ]
  }
 ],
 "metadata": {
  "kernelspec": {
   "display_name": "Python 3.7.3 64-bit",
   "language": "python",
   "name": "python3"
  },
  "language_info": {
   "codemirror_mode": {
    "name": "ipython",
    "version": 3
   },
   "file_extension": ".py",
   "mimetype": "text/x-python",
   "name": "python",
   "nbconvert_exporter": "python",
   "pygments_lexer": "ipython3",
   "version": "3.7.3"
  },
  "orig_nbformat": 4,
  "vscode": {
   "interpreter": {
    "hash": "610afcfab8d92197fd8fa1dd69c9a0fe3f98f600233dfd0ef802fd8443096641"
   }
  }
 },
 "nbformat": 4,
 "nbformat_minor": 2
}
